{
 "cells": [
  {
   "cell_type": "code",
   "execution_count": 19,
   "id": "0a5a53db",
   "metadata": {},
   "outputs": [],
   "source": [
    "# 1. Import Libraries\n",
    "import pandas as pd\n",
    "import numpy as np\n",
    "from sklearn.model_selection import train_test_split\n",
    "from sklearn.feature_extraction.text import TfidfVectorizer\n",
    "from sklearn.linear_model import LogisticRegression, Perceptron\n",
    "from sklearn.svm import SVC\n",
    "from sklearn.metrics import hamming_loss, f1_score\n",
    "from sklearn.multiclass import OneVsRestClassifier\n",
    "from sklearn.neural_network import MLPClassifier\n",
    "import matplotlib.pyplot as plt\n",
    "import seaborn as sns\n",
    "import joblib  # For saving models"
   ]
  },
  {
   "cell_type": "code",
   "execution_count": 20,
   "id": "824dfebe",
   "metadata": {},
   "outputs": [
    {
     "data": {
      "application/vnd.microsoft.datawrangler.viewer.v0+json": {
       "columns": [
        {
         "name": "index",
         "rawType": "int64",
         "type": "integer"
        },
        {
         "name": "report",
         "rawType": "object",
         "type": "string"
        },
        {
         "name": "type_blocker",
         "rawType": "int64",
         "type": "integer"
        },
        {
         "name": "type_regression",
         "rawType": "int64",
         "type": "integer"
        },
        {
         "name": "type_bug",
         "rawType": "int64",
         "type": "integer"
        },
        {
         "name": "type_documentation",
         "rawType": "int64",
         "type": "integer"
        },
        {
         "name": "type_enhancement",
         "rawType": "int64",
         "type": "integer"
        },
        {
         "name": "type_task",
         "rawType": "int64",
         "type": "integer"
        },
        {
         "name": "type_dependency_upgrade",
         "rawType": "int64",
         "type": "integer"
        }
       ],
       "conversionMethod": "pd.DataFrame",
       "ref": "8d0a3afd-e98c-4f57-a486-e869e097e657",
       "rows": [
        [
         "0",
         "The mention of Fix Super Stream Example in Docs and Back port of issue 3546 Closed by 7a92b41af refers to a documentation update in a software project This update addresses a previous issue 3546 which has been resolved and backported meaning the fix was applied to an earlier version of the software The specific change identified by the commit hash 7a92b41af likely involved correcting or improving an example related to the Super Stream functionality ensuring clarity and functionality in the documentation for users and developers Such updates are crucial for maintaining accurate and helpful documentation which supports effective use and development of the software",
         "0",
         "0",
         "1",
         "1",
         "0",
         "0",
         "0"
        ],
        [
         "1",
         "It seems like you need a concise summary related to machine learning However your request also mentions fixing a super stream example and removing Scope If you re referring to improving documentation or code here s a general approach to both For machine learning ensure the documentation explains key concepts such as data preprocessing model selection training evaluation and deployment Highlight the importance of feature engineering overfitting prevention and hyperparameter tuning Use examples to illustrate how models like neural networks or decision trees can be applied to specific problems Regarding the super stream example focus on clarity and simplicity Removing Scope might suggest simplifying the code Ensure that the example is easy to understand with clear comments and logical flow Verify that any dependencies or frameworks used are correctly configured and documented",
         "0",
         "0",
         "1",
         "1",
         "0",
         "0",
         "0"
        ],
        [
         "2",
         "The issue AMQP 838 opened by Gary Russell involves enhancing the JavaDocs for the setMessageConverter method in the Spring AMQP project This setter is primarily used with RabbitListener to pass a message converter to the listener adapter from the container factory The proposal suggests updating the documentation to clarify its usage and considers deprecating the setter The issue affects version 2 1 GA and has been backported to version 2 0 8 Additional context and discussions related to this can be found in a Stack Overflow thread and a related pull request on GitHub",
         "0",
         "0",
         "1",
         "1",
         "0",
         "0",
         "0"
        ],
        [
         "3",
         "I m unable to access external content directly including specific JIRA issues or GitHub pages However I can help you create a summary if you provide more details about the content of the issue related to Maven samples build and AMQP 835 Please share key points or excerpts and I ll assist you in summarizing them",
         "0",
         "0",
         "1",
         "1",
         "0",
         "0",
         "0"
        ],
        [
         "4",
         "In the discussion around AMQP 815 https jira spring io browse AMQP 815 redirect false Mallaiah Mejari identified an incorrect class reference in the Spring AMQP documentation specifically in the section RabbitConnectionFactoryBean and Configuring SSL The class should be updated to org springframework amqp rabbit connection RabbitConnectionFactoryBean instead of the incorrect org springframework xd dirt integration rabbit RabbitConnectionFactoryBean Artem Bilan acknowledged the typo and encouraged Mejari to submit a pull request for the correction providing a link to the contribution guide https github com spring projects spring amqp blob master CONTRIBUTING adoc Mejari requested further guidance on how to proceed with creating the pull request The correction was backported to version 1 7 8 https github com spring projects spring amqp milestone 187 closed 1",
         "0",
         "0",
         "1",
         "1",
         "0",
         "0",
         "0"
        ]
       ],
       "shape": {
        "columns": 8,
        "rows": 5
       }
      },
      "text/html": [
       "<div>\n",
       "<style scoped>\n",
       "    .dataframe tbody tr th:only-of-type {\n",
       "        vertical-align: middle;\n",
       "    }\n",
       "\n",
       "    .dataframe tbody tr th {\n",
       "        vertical-align: top;\n",
       "    }\n",
       "\n",
       "    .dataframe thead th {\n",
       "        text-align: right;\n",
       "    }\n",
       "</style>\n",
       "<table border=\"1\" class=\"dataframe\">\n",
       "  <thead>\n",
       "    <tr style=\"text-align: right;\">\n",
       "      <th></th>\n",
       "      <th>report</th>\n",
       "      <th>type_blocker</th>\n",
       "      <th>type_regression</th>\n",
       "      <th>type_bug</th>\n",
       "      <th>type_documentation</th>\n",
       "      <th>type_enhancement</th>\n",
       "      <th>type_task</th>\n",
       "      <th>type_dependency_upgrade</th>\n",
       "    </tr>\n",
       "  </thead>\n",
       "  <tbody>\n",
       "    <tr>\n",
       "      <th>0</th>\n",
       "      <td>The mention of Fix Super Stream Example in Doc...</td>\n",
       "      <td>0</td>\n",
       "      <td>0</td>\n",
       "      <td>1</td>\n",
       "      <td>1</td>\n",
       "      <td>0</td>\n",
       "      <td>0</td>\n",
       "      <td>0</td>\n",
       "    </tr>\n",
       "    <tr>\n",
       "      <th>1</th>\n",
       "      <td>It seems like you need a concise summary relat...</td>\n",
       "      <td>0</td>\n",
       "      <td>0</td>\n",
       "      <td>1</td>\n",
       "      <td>1</td>\n",
       "      <td>0</td>\n",
       "      <td>0</td>\n",
       "      <td>0</td>\n",
       "    </tr>\n",
       "    <tr>\n",
       "      <th>2</th>\n",
       "      <td>The issue AMQP 838 opened by Gary Russell invo...</td>\n",
       "      <td>0</td>\n",
       "      <td>0</td>\n",
       "      <td>1</td>\n",
       "      <td>1</td>\n",
       "      <td>0</td>\n",
       "      <td>0</td>\n",
       "      <td>0</td>\n",
       "    </tr>\n",
       "    <tr>\n",
       "      <th>3</th>\n",
       "      <td>I m unable to access external content directly...</td>\n",
       "      <td>0</td>\n",
       "      <td>0</td>\n",
       "      <td>1</td>\n",
       "      <td>1</td>\n",
       "      <td>0</td>\n",
       "      <td>0</td>\n",
       "      <td>0</td>\n",
       "    </tr>\n",
       "    <tr>\n",
       "      <th>4</th>\n",
       "      <td>In the discussion around AMQP 815 https jira s...</td>\n",
       "      <td>0</td>\n",
       "      <td>0</td>\n",
       "      <td>1</td>\n",
       "      <td>1</td>\n",
       "      <td>0</td>\n",
       "      <td>0</td>\n",
       "      <td>0</td>\n",
       "    </tr>\n",
       "  </tbody>\n",
       "</table>\n",
       "</div>"
      ],
      "text/plain": [
       "                                              report  type_blocker  \\\n",
       "0  The mention of Fix Super Stream Example in Doc...             0   \n",
       "1  It seems like you need a concise summary relat...             0   \n",
       "2  The issue AMQP 838 opened by Gary Russell invo...             0   \n",
       "3  I m unable to access external content directly...             0   \n",
       "4  In the discussion around AMQP 815 https jira s...             0   \n",
       "\n",
       "   type_regression  type_bug  type_documentation  type_enhancement  type_task  \\\n",
       "0                0         1                   1                 0          0   \n",
       "1                0         1                   1                 0          0   \n",
       "2                0         1                   1                 0          0   \n",
       "3                0         1                   1                 0          0   \n",
       "4                0         1                   1                 0          0   \n",
       "\n",
       "   type_dependency_upgrade  \n",
       "0                        0  \n",
       "1                        0  \n",
       "2                        0  \n",
       "3                        0  \n",
       "4                        0  "
      ]
     },
     "execution_count": 20,
     "metadata": {},
     "output_type": "execute_result"
    }
   ],
   "source": [
    "# 2. Load Dataset\n",
    "df = pd.read_csv(\"dataset.csv\")\n",
    "df.head()"
   ]
  },
  {
   "cell_type": "code",
   "execution_count": 21,
   "id": "c96c66cd",
   "metadata": {},
   "outputs": [],
   "source": [
    "# 3. Preprocessing\n",
    "labels = ['type_blocker', 'type_regression', 'type_bug', 'type_documentation', 'type_enhancement', 'type_task', 'type_dependency_upgrade']\n",
    "X = df['report']\n",
    "y = df[labels]\n",
    "\n",
    "# TF-IDF Vectorization\n",
    "vectorizer = TfidfVectorizer(max_features=5000)\n",
    "X_tfidf = vectorizer.fit_transform(X)\n",
    "\n",
    "# Save the vectorizer\n",
    "joblib.dump(vectorizer, 'tfidf_vectorizer.pkl')\n",
    "\n",
    "# Train-test split\n",
    "X_train, X_temp, y_train, y_temp = train_test_split(X_tfidf, y, test_size=0.3, random_state=42)\n",
    "X_val, X_test, y_val, y_test = train_test_split(X_temp, y_temp, test_size=0.5, random_state=42)"
   ]
  },
  {
   "cell_type": "code",
   "execution_count": 22,
   "id": "d788bb24",
   "metadata": {},
   "outputs": [
    {
     "name": "stderr",
     "output_type": "stream",
     "text": [
      "c:\\Users\\hp\\AppData\\Local\\Programs\\Python\\Python39\\lib\\site-packages\\sklearn\\multiclass.py:90: UserWarning: Label not 5 is present in all training examples.\n",
      "  warnings.warn(\n"
     ]
    },
    {
     "data": {
      "text/plain": [
       "['logistic_model.pkl']"
      ]
     },
     "execution_count": 22,
     "metadata": {},
     "output_type": "execute_result"
    }
   ],
   "source": [
    "# 4. Logistic Regression (OvR)\n",
    "log_reg = OneVsRestClassifier(LogisticRegression(max_iter=1000))\n",
    "log_reg.fit(X_train, y_train)\n",
    "y_pred_log = log_reg.predict(X_test)\n",
    "\n",
    "# Save the Logistic Regression model\n",
    "joblib.dump(log_reg, 'logistic_model.pkl')"
   ]
  },
  {
   "cell_type": "code",
   "execution_count": 23,
   "id": "03edd4cd",
   "metadata": {},
   "outputs": [
    {
     "name": "stderr",
     "output_type": "stream",
     "text": [
      "c:\\Users\\hp\\AppData\\Local\\Programs\\Python\\Python39\\lib\\site-packages\\sklearn\\multiclass.py:90: UserWarning: Label not 5 is present in all training examples.\n",
      "  warnings.warn(\n"
     ]
    },
    {
     "data": {
      "text/plain": [
       "['svm_model.pkl']"
      ]
     },
     "execution_count": 23,
     "metadata": {},
     "output_type": "execute_result"
    }
   ],
   "source": [
    "# 5. SVM (OvR)\n",
    "svm = OneVsRestClassifier(SVC(kernel='linear', probability=True))\n",
    "svm.fit(X_train, y_train)\n",
    "y_pred_svm = svm.predict(X_test)\n",
    "\n",
    "# Save the SVM model\n",
    "joblib.dump(svm, 'svm_model.pkl')"
   ]
  },
  {
   "cell_type": "code",
   "execution_count": 24,
   "id": "c325a74d",
   "metadata": {},
   "outputs": [
    {
     "name": "stderr",
     "output_type": "stream",
     "text": [
      "c:\\Users\\hp\\AppData\\Local\\Programs\\Python\\Python39\\lib\\site-packages\\sklearn\\linear_model\\_stochastic_gradient.py:738: ConvergenceWarning: Maximum number of iteration reached before convergence. Consider increasing max_iter to improve the fit.\n",
      "  warnings.warn(\n",
      "c:\\Users\\hp\\AppData\\Local\\Programs\\Python\\Python39\\lib\\site-packages\\sklearn\\linear_model\\_stochastic_gradient.py:738: ConvergenceWarning: Maximum number of iteration reached before convergence. Consider increasing max_iter to improve the fit.\n",
      "  warnings.warn(\n",
      "c:\\Users\\hp\\AppData\\Local\\Programs\\Python\\Python39\\lib\\site-packages\\sklearn\\linear_model\\_stochastic_gradient.py:738: ConvergenceWarning: Maximum number of iteration reached before convergence. Consider increasing max_iter to improve the fit.\n",
      "  warnings.warn(\n",
      "c:\\Users\\hp\\AppData\\Local\\Programs\\Python\\Python39\\lib\\site-packages\\sklearn\\linear_model\\_stochastic_gradient.py:738: ConvergenceWarning: Maximum number of iteration reached before convergence. Consider increasing max_iter to improve the fit.\n",
      "  warnings.warn(\n",
      "c:\\Users\\hp\\AppData\\Local\\Programs\\Python\\Python39\\lib\\site-packages\\sklearn\\linear_model\\_stochastic_gradient.py:738: ConvergenceWarning: Maximum number of iteration reached before convergence. Consider increasing max_iter to improve the fit.\n",
      "  warnings.warn(\n",
      "c:\\Users\\hp\\AppData\\Local\\Programs\\Python\\Python39\\lib\\site-packages\\sklearn\\multiclass.py:90: UserWarning: Label not 5 is present in all training examples.\n",
      "  warnings.warn(\n",
      "c:\\Users\\hp\\AppData\\Local\\Programs\\Python\\Python39\\lib\\site-packages\\sklearn\\linear_model\\_stochastic_gradient.py:738: ConvergenceWarning: Maximum number of iteration reached before convergence. Consider increasing max_iter to improve the fit.\n",
      "  warnings.warn(\n"
     ]
    },
    {
     "data": {
      "text/plain": [
       "['perceptron_model.pkl']"
      ]
     },
     "execution_count": 24,
     "metadata": {},
     "output_type": "execute_result"
    }
   ],
   "source": [
    "# 6. Perceptron (Online Learning)\n",
    "perceptron = OneVsRestClassifier(Perceptron(max_iter=5))\n",
    "perceptron.fit(X_train, y_train)\n",
    "y_pred_perc = perceptron.predict(X_test)\n",
    "\n",
    "# Save the Perceptron model\n",
    "joblib.dump(perceptron, 'perceptron_model.pkl')"
   ]
  },
  {
   "cell_type": "code",
   "execution_count": 25,
   "id": "16b275e4",
   "metadata": {},
   "outputs": [
    {
     "name": "stderr",
     "output_type": "stream",
     "text": [
      "c:\\Users\\hp\\AppData\\Local\\Programs\\Python\\Python39\\lib\\site-packages\\sklearn\\neural_network\\_multilayer_perceptron.py:691: ConvergenceWarning: Stochastic Optimizer: Maximum iterations (50) reached and the optimization hasn't converged yet.\n",
      "  warnings.warn(\n"
     ]
    },
    {
     "data": {
      "text/plain": [
       "['mlp_model.pkl']"
      ]
     },
     "execution_count": 25,
     "metadata": {},
     "output_type": "execute_result"
    }
   ],
   "source": [
    "# 7. Deep Neural Network\n",
    "mlp = MLPClassifier(hidden_layer_sizes=(128, 64), activation='relu', max_iter=50)\n",
    "mlp.fit(X_train.toarray(), y_train)\n",
    "y_pred_mlp = mlp.predict(X_test.toarray())\n",
    "\n",
    "# Save the DNN model\n",
    "joblib.dump(mlp, 'mlp_model.pkl')"
   ]
  },
  {
   "cell_type": "code",
   "execution_count": 26,
   "id": "6f9a0757",
   "metadata": {},
   "outputs": [
    {
     "name": "stdout",
     "output_type": "stream",
     "text": [
      "=== Logistic Regression ===\n",
      "Hamming Loss: 0.11469780219780219\n",
      "Micro-F1 Score: 0.7925465838509317\n",
      "Macro-F1 Score: 0.36148536318457686\n",
      "\n",
      "=== SVM ===\n",
      "Hamming Loss: 0.09684065934065934\n",
      "Micro-F1 Score: 0.8269938650306748\n",
      "Macro-F1 Score: 0.527265767540367\n",
      "\n",
      "=== Perceptron ===\n",
      "Hamming Loss: 0.12156593406593406\n",
      "Micro-F1 Score: 0.7929824561403509\n",
      "Macro-F1 Score: 0.540804941683196\n",
      "\n",
      "=== DNN ===\n",
      "Hamming Loss: 0.11607142857142858\n",
      "Micro-F1 Score: 0.7916152897657214\n",
      "Macro-F1 Score: 0.4702937499608698\n",
      "\n"
     ]
    },
    {
     "name": "stderr",
     "output_type": "stream",
     "text": [
      "c:\\Users\\hp\\AppData\\Local\\Programs\\Python\\Python39\\lib\\site-packages\\sklearn\\metrics\\_classification.py:1565: UndefinedMetricWarning: F-score is ill-defined and being set to 0.0 in labels with no true nor predicted samples. Use `zero_division` parameter to control this behavior.\n",
      "  _warn_prf(average, modifier, f\"{metric.capitalize()} is\", len(result))\n",
      "c:\\Users\\hp\\AppData\\Local\\Programs\\Python\\Python39\\lib\\site-packages\\sklearn\\metrics\\_classification.py:1565: UndefinedMetricWarning: F-score is ill-defined and being set to 0.0 in labels with no true nor predicted samples. Use `zero_division` parameter to control this behavior.\n",
      "  _warn_prf(average, modifier, f\"{metric.capitalize()} is\", len(result))\n",
      "c:\\Users\\hp\\AppData\\Local\\Programs\\Python\\Python39\\lib\\site-packages\\sklearn\\metrics\\_classification.py:1565: UndefinedMetricWarning: F-score is ill-defined and being set to 0.0 in labels with no true nor predicted samples. Use `zero_division` parameter to control this behavior.\n",
      "  _warn_prf(average, modifier, f\"{metric.capitalize()} is\", len(result))\n",
      "c:\\Users\\hp\\AppData\\Local\\Programs\\Python\\Python39\\lib\\site-packages\\sklearn\\metrics\\_classification.py:1565: UndefinedMetricWarning: F-score is ill-defined and being set to 0.0 in labels with no true nor predicted samples. Use `zero_division` parameter to control this behavior.\n",
      "  _warn_prf(average, modifier, f\"{metric.capitalize()} is\", len(result))\n"
     ]
    }
   ],
   "source": [
    "# 8. Evaluation Function\n",
    "def evaluate_model(name, y_true, y_pred):\n",
    "    print(f\"=== {name} ===\")\n",
    "    print(\"Hamming Loss:\", hamming_loss(y_true, y_pred))\n",
    "    print(\"Micro-F1 Score:\", f1_score(y_true, y_pred, average='micro'))\n",
    "    print(\"Macro-F1 Score:\", f1_score(y_true, y_pred, average='macro'))\n",
    "    print()\n",
    "\n",
    "# Evaluate all models\n",
    "evaluate_model(\"Logistic Regression\", y_test, y_pred_log)\n",
    "evaluate_model(\"SVM\", y_test, y_pred_svm)\n",
    "evaluate_model(\"Perceptron\", y_test, y_pred_perc)\n",
    "evaluate_model(\"DNN\", y_test, y_pred_mlp)"
   ]
  },
  {
   "cell_type": "code",
   "execution_count": 27,
   "id": "2025d337",
   "metadata": {},
   "outputs": [
    {
     "name": "stdout",
     "output_type": "stream",
     "text": [
      "Precision@3 (Logistic Regression): 0.6105769230769231\n",
      "Precision@3 (DNN): 0.6330128205128205\n"
     ]
    }
   ],
   "source": [
    "# 9. Precision@k (Top-3)\n",
    "def precision_at_k(y_true, y_scores, k=3):\n",
    "    precisions = []\n",
    "    for i in range(len(y_true)):\n",
    "        top_k = np.argsort(y_scores[i])[-k:]\n",
    "        true_labels = np.where(y_true[i] == 1)[0]\n",
    "        precision = len(set(top_k) & set(true_labels)) / k\n",
    "        precisions.append(precision)\n",
    "    return np.mean(precisions)\n",
    "\n",
    "# Get predicted probabilities\n",
    "y_score_log = log_reg.predict_proba(X_test)\n",
    "y_score_mlp = mlp.predict_proba(X_test.toarray())\n",
    "\n",
    "# Calculate Precision@3\n",
    "print(\"Precision@3 (Logistic Regression):\", precision_at_k(y_test.values, np.array(y_score_log), k=3))\n",
    "print(\"Precision@3 (DNN):\", precision_at_k(y_test.values, np.array(y_score_mlp), k=3))\n"
   ]
  }
 ],
 "metadata": {
  "kernelspec": {
   "display_name": "Python 3",
   "language": "python",
   "name": "python3"
  },
  "language_info": {
   "codemirror_mode": {
    "name": "ipython",
    "version": 3
   },
   "file_extension": ".py",
   "mimetype": "text/x-python",
   "name": "python",
   "nbconvert_exporter": "python",
   "pygments_lexer": "ipython3",
   "version": "3.9.13"
  }
 },
 "nbformat": 4,
 "nbformat_minor": 5
}
